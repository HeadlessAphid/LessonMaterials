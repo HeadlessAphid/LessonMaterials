{
  "nbformat": 4,
  "nbformat_minor": 0,
  "metadata": {
    "colab": {
      "name": "AI_Final_Project.ipynb",
      "provenance": [],
      "authorship_tag": "ABX9TyNi4KX92+jJhWzNX9A/hfny",
      "include_colab_link": true
    },
    "kernelspec": {
      "name": "python3",
      "display_name": "Python 3"
    }
  },
  "cells": [
    {
      "cell_type": "markdown",
      "metadata": {
        "id": "view-in-github",
        "colab_type": "text"
      },
      "source": [
        "<a href=\"https://colab.research.google.com/github/HeadlessAphid/LessonMaterials/blob/master/AI_Final_Project.ipynb\" target=\"_parent\"><img src=\"https://colab.research.google.com/assets/colab-badge.svg\" alt=\"Open In Colab\"/></a>"
      ]
    },
    {
      "cell_type": "code",
      "metadata": {
        "id": "JAqhAlL-550U",
        "colab_type": "code",
        "colab": {}
      },
      "source": [
        "# This will be a Soccer Winning Predictions Machine Learning Project Where based on previous statistics whether or not the home team will win "
      ],
      "execution_count": null,
      "outputs": []
    },
    {
      "cell_type": "code",
      "metadata": {
        "id": "6e8_uAOO_qCa",
        "colab_type": "code",
        "colab": {}
      },
      "source": [
        "# Step1: Clean Our Data Set\n",
        "# Step2: Split it into training and testing data with sklearn\n",
        "# Step3: Train 3 different classifiers -Logistic Regression -Support Vector Machine -XGBoost \n",
        "# Step4: Pick the classifier with the best result and use it to predict the winning team"
      ],
      "execution_count": null,
      "outputs": []
    }
  ]
}