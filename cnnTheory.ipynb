{
  "nbformat": 4,
  "nbformat_minor": 0,
  "metadata": {
    "kernelspec": {
      "display_name": "Python 3",
      "language": "python",
      "name": "python3"
    },
    "language_info": {
      "codemirror_mode": {
        "name": "ipython",
        "version": 3
      },
      "file_extension": ".py",
      "mimetype": "text/x-python",
      "name": "python",
      "nbconvert_exporter": "python",
      "pygments_lexer": "ipython3",
      "version": "3.8.3"
    },
    "colab": {
      "name": "cnnTheory.ipynb",
      "provenance": []
    }
  },
  "cells": [
    {
      "cell_type": "markdown",
      "metadata": {
        "id": "XPMG6ZqGnnds",
        "colab_type": "text"
      },
      "source": [
        "# Theory of a Convolutional Neural Network (CNN)"
      ]
    },
    {
      "cell_type": "markdown",
      "metadata": {
        "id": "BOaePd7cn4Qf",
        "colab_type": "text"
      },
      "source": [
        "## What are CNNs?\n",
        "\n",
        "A CNN is a neural network that has one or more convolutional layers, which is essentially applying a filter to an input and resulting in an activation. \n",
        "\n",
        "CNNs are most commonly used for image processing, classification, segmentation and also for other auto correlated data. For example, we applied CNNs to classify images as either cats or dogs. "
      ]
    },
    {
      "cell_type": "markdown",
      "metadata": {
        "id": "mOC1o_VCoTA8",
        "colab_type": "text"
      },
      "source": [
        "## How are CNNs created\n",
        "\n",
        "A CNN is usually split into 4 relative parts. \n",
        "\n",
        "1. Convolutional layers\n",
        "2. Activation operation following each convolutional layer\n",
        "3. Pooling layer\n",
        "4. Fully connecting the layers"
      ]
    },
    {
      "cell_type": "markdown",
      "metadata": {
        "id": "Rzh5oTJaqpc-",
        "colab_type": "text"
      },
      "source": [
        "### Convolutional Layers"
      ]
    },
    {
      "cell_type": "markdown",
      "metadata": {
        "id": "-JCwLIicsEcy",
        "colab_type": "text"
      },
      "source": [
        "### Activation Operations"
      ]
    },
    {
      "cell_type": "markdown",
      "metadata": {
        "id": "3X78Q-w6sEkm",
        "colab_type": "text"
      },
      "source": [
        "###Pooling Layers"
      ]
    },
    {
      "cell_type": "markdown",
      "metadata": {
        "id": "TyK1rizYsEsW",
        "colab_type": "text"
      },
      "source": [
        "###Fully Connected Layers"
      ]
    },
    {
      "cell_type": "markdown",
      "metadata": {
        "id": "6PukEHwurcEG",
        "colab_type": "text"
      },
      "source": [
        "The fully connected layer will look at the output of the previous class, which represents the activation maps of the high-level features. In addition, it will look at the number of classes. For example, in digit classification, it will have 10 classes. \n",
        "\n",
        "For example, if a program is predicting an image as a dog, it will have high values in the "
      ]
    }
  ]
}