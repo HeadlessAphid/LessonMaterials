{
  "nbformat": 4,
  "nbformat_minor": 0,
  "metadata": {
    "kernelspec": {
      "display_name": "Python 3",
      "language": "python",
      "name": "python3"
    },
    "language_info": {
      "codemirror_mode": {
        "name": "ipython",
        "version": 3
      },
      "file_extension": ".py",
      "mimetype": "text/x-python",
      "name": "python",
      "nbconvert_exporter": "python",
      "pygments_lexer": "ipython3",
      "version": "3.8.3"
    },
    "colab": {
      "name": "cnnTheory.ipynb",
      "provenance": []
    }
  },
  "cells": [
    {
      "cell_type": "markdown",
      "metadata": {
        "id": "XPMG6ZqGnnds",
        "colab_type": "text"
      },
      "source": [
        "# Theory of a Convolutional Neural Network (CNN)"
      ]
    },
    {
      "cell_type": "markdown",
      "metadata": {
        "id": "BOaePd7cn4Qf",
        "colab_type": "text"
      },
      "source": [
        "## Introduction to CNNs\n",
        "\n",
        "Imagine that we want to create a neural network that can recognize a cat versus a dog. Our brains can easily tell the difference between cats and dogs based on a variety of factors -- furriness, size, bone structure, etc. \n",
        "\n",
        "\n",
        "\n",
        "A CNN is a neural network that has one or more convolutional layers, which is essentially applying a filter to an input and resulting in an activation. \n",
        "\n",
        "CNNs are most commonly used for image processing, classification, segmentation and also for other auto correlated data. For example, we applied CNNs to classify images as either cats or dogs. "
      ]
    },
    {
      "cell_type": "markdown",
      "metadata": {
        "id": "oUyYNvdov_Ww",
        "colab_type": "text"
      },
      "source": [
        "### Problems with traditional neural networks"
      ]
    },
    {
      "cell_type": "markdown",
      "metadata": {
        "id": "5tvHtZtswHWm",
        "colab_type": "text"
      },
      "source": [
        "However, a traditional neural network cannot do the same for a variety of reasons. For example, for a 220 x 220 px image -- which is relatively small-medium, there are about 150,000 weights to train (one weight for each pixel). This is virtually impossible to train unless one has a supercomputer, and common problems such as overfitting can become incredibly common. \n",
        "\n",
        "In addition, neural networks won't be looking for the pattern we want to recognize in the image -- for example, a cat. It will be looking to recognize the entire image as a whole, which has its own box of problems. For example, if a cat appears on the right side of an image in one scenario, but on the left in another, the neural network will be incredibly confused. \n",
        "\n",
        "However, one of the main problems with spatial information. "
      ]
    },
    {
      "cell_type": "markdown",
      "metadata": {
        "id": "mOC1o_VCoTA8",
        "colab_type": "text"
      },
      "source": [
        "## Layers of a CNN\n",
        "\n",
        "A CNN usually has 3 main layers: \n",
        "- Convolutional Layer\n",
        "- Pooling layer\n",
        "- Fully connected layer\n",
        "\n"
      ]
    },
    {
      "cell_type": "markdown",
      "metadata": {
        "id": "Rzh5oTJaqpc-",
        "colab_type": "text"
      },
      "source": [
        "### Convolutional Layers\n",
        "\n",
        "A convolutional layer is the backbone of a CNN. With a convolutaional layer, our main goal is to extract the key features from the input image. To do so, we will incorporate filters, which are essentially numerical representations of patterns we are looking for. After "
      ]
    },
    {
      "cell_type": "markdown",
      "metadata": {
        "id": "toDZBflhqkcl",
        "colab_type": "text"
      },
      "source": [
        "#### Filter\n",
        "\n",
        "You must remember that every neural network is based off the design of the human brain. If we take this anaalogy, the filter is essentially the neuron of the layer. The filter will take an inputted value, give it a weight, and output another value. \n",
        "\n",
        "A filter itself is simply a numerical representation of a pattern. With a CNN, our goal is essentially to recognize a pattern, and we usually do this in an image recognition context. "
      ]
    },
    {
      "cell_type": "markdown",
      "metadata": {
        "id": "V9HOTsrgqn8p",
        "colab_type": "text"
      },
      "source": [
        "#### Feature map\n",
        "\n",
        "A feature map is the combined output of one filter applied to the previous layer. After the filter modifies the image one pixel at a time, the output of each function is collected in the heat map. "
      ]
    },
    {
      "cell_type": "markdown",
      "metadata": {
        "id": "3X78Q-w6sEkm",
        "colab_type": "text"
      },
      "source": [
        "###Max Pooling and Pooling layers\n",
        "\n",
        "The pooling layer allows you to downsize your information, which helps increase computational speed. With Max Pooling, we take the most significant value from an area, which (most of the time) is all we need for computation. By adding a layer that doesn't perform intense calculations on each pixel, we are able to significantly increase the speed of our layers. "
      ]
    },
    {
      "cell_type": "markdown",
      "metadata": {
        "id": "TyK1rizYsEsW",
        "colab_type": "text"
      },
      "source": [
        "###Fully Connected Layers\n",
        "\n",
        "A fully connected layer is essentially a normal neural network layer. At this point, our model has trained itself on the patterns to recognize. By inputting this into a generic layer, we can allow the model to determine the importance of a certain characteristic. "
      ]
    }
  ]
}