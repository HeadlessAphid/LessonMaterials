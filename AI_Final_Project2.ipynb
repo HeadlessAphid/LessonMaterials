{
  "nbformat": 4,
  "nbformat_minor": 0,
  "metadata": {
    "colab": {
      "name": "AI_Final_Project2.ipynb",
      "provenance": [],
      "authorship_tag": "ABX9TyNtHoaSZbxRh+P9EoTk9yxE",
      "include_colab_link": true
    },
    "kernelspec": {
      "name": "python3",
      "display_name": "Python 3"
    }
  },
  "cells": [
    {
      "cell_type": "markdown",
      "metadata": {
        "id": "view-in-github",
        "colab_type": "text"
      },
      "source": [
        "<a href=\"https://colab.research.google.com/github/HeadlessAphid/LessonMaterials/blob/master/AI_Final_Project2.ipynb\" target=\"_parent\"><img src=\"https://colab.research.google.com/assets/colab-badge.svg\" alt=\"Open In Colab\"/></a>"
      ]
    },
    {
      "cell_type": "code",
      "metadata": {
        "id": "ukja3-KNC9vQ",
        "colab_type": "code",
        "colab": {}
      },
      "source": [
        "#Loading libraries \n",
        "import numpy as np \n",
        "import pandas as pd\n",
        "import matplotlib.pyplot as plt\n",
        "%matplotlib inline\n",
        "plt.rcParams['figure.figsize'] = (10.0, 8.0)\n",
        "import seaborn as sns\n",
        "from scipy import stats\n",
        "from scipy.stats import norm"
      ],
      "execution_count": 13,
      "outputs": []
    },
    {
      "cell_type": "code",
      "metadata": {
        "id": "0rr-K4rKDkqz",
        "colab_type": "code",
        "colab": {}
      },
      "source": [
        "# loading data\n",
        "train = pd.read_csv(\"train.csv\")\n",
        "test = pd.read_csv(\"test.csv\")"
      ],
      "execution_count": 14,
      "outputs": []
    },
    {
      "cell_type": "code",
      "metadata": {
        "id": "JLPshXJCHjhu",
        "colab_type": "code",
        "colab": {
          "base_uri": "https://localhost:8080/",
          "height": 253
        },
        "outputId": "777e5cc0-8cd9-4465-db5f-6113bd862f4a"
      },
      "source": [
        "train.head()"
      ],
      "execution_count": 15,
      "outputs": [
        {
          "output_type": "execute_result",
          "data": {
            "text/html": [
              "<div>\n",
              "<style scoped>\n",
              "    .dataframe tbody tr th:only-of-type {\n",
              "        vertical-align: middle;\n",
              "    }\n",
              "\n",
              "    .dataframe tbody tr th {\n",
              "        vertical-align: top;\n",
              "    }\n",
              "\n",
              "    .dataframe thead th {\n",
              "        text-align: right;\n",
              "    }\n",
              "</style>\n",
              "<table border=\"1\" class=\"dataframe\">\n",
              "  <thead>\n",
              "    <tr style=\"text-align: right;\">\n",
              "      <th></th>\n",
              "      <th>Id</th>\n",
              "      <th>MSSubClass</th>\n",
              "      <th>MSZoning</th>\n",
              "      <th>LotFrontage</th>\n",
              "      <th>LotArea</th>\n",
              "      <th>Street</th>\n",
              "      <th>Alley</th>\n",
              "      <th>LotShape</th>\n",
              "      <th>LandContour</th>\n",
              "      <th>Utilities</th>\n",
              "      <th>LotConfig</th>\n",
              "      <th>LandSlope</th>\n",
              "      <th>Neighborhood</th>\n",
              "      <th>Condition1</th>\n",
              "      <th>Condition2</th>\n",
              "      <th>BldgType</th>\n",
              "      <th>HouseStyle</th>\n",
              "      <th>OverallQual</th>\n",
              "      <th>OverallCond</th>\n",
              "      <th>YearBuilt</th>\n",
              "      <th>YearRemodAdd</th>\n",
              "      <th>RoofStyle</th>\n",
              "      <th>RoofMatl</th>\n",
              "      <th>Exterior1st</th>\n",
              "      <th>Exterior2nd</th>\n",
              "      <th>MasVnrType</th>\n",
              "      <th>MasVnrArea</th>\n",
              "      <th>ExterQual</th>\n",
              "      <th>ExterCond</th>\n",
              "      <th>Foundation</th>\n",
              "      <th>BsmtQual</th>\n",
              "      <th>BsmtCond</th>\n",
              "      <th>BsmtExposure</th>\n",
              "      <th>BsmtFinType1</th>\n",
              "      <th>BsmtFinSF1</th>\n",
              "      <th>BsmtFinType2</th>\n",
              "      <th>BsmtFinSF2</th>\n",
              "      <th>BsmtUnfSF</th>\n",
              "      <th>TotalBsmtSF</th>\n",
              "      <th>Heating</th>\n",
              "      <th>...</th>\n",
              "      <th>CentralAir</th>\n",
              "      <th>Electrical</th>\n",
              "      <th>1stFlrSF</th>\n",
              "      <th>2ndFlrSF</th>\n",
              "      <th>LowQualFinSF</th>\n",
              "      <th>GrLivArea</th>\n",
              "      <th>BsmtFullBath</th>\n",
              "      <th>BsmtHalfBath</th>\n",
              "      <th>FullBath</th>\n",
              "      <th>HalfBath</th>\n",
              "      <th>BedroomAbvGr</th>\n",
              "      <th>KitchenAbvGr</th>\n",
              "      <th>KitchenQual</th>\n",
              "      <th>TotRmsAbvGrd</th>\n",
              "      <th>Functional</th>\n",
              "      <th>Fireplaces</th>\n",
              "      <th>FireplaceQu</th>\n",
              "      <th>GarageType</th>\n",
              "      <th>GarageYrBlt</th>\n",
              "      <th>GarageFinish</th>\n",
              "      <th>GarageCars</th>\n",
              "      <th>GarageArea</th>\n",
              "      <th>GarageQual</th>\n",
              "      <th>GarageCond</th>\n",
              "      <th>PavedDrive</th>\n",
              "      <th>WoodDeckSF</th>\n",
              "      <th>OpenPorchSF</th>\n",
              "      <th>EnclosedPorch</th>\n",
              "      <th>3SsnPorch</th>\n",
              "      <th>ScreenPorch</th>\n",
              "      <th>PoolArea</th>\n",
              "      <th>PoolQC</th>\n",
              "      <th>Fence</th>\n",
              "      <th>MiscFeature</th>\n",
              "      <th>MiscVal</th>\n",
              "      <th>MoSold</th>\n",
              "      <th>YrSold</th>\n",
              "      <th>SaleType</th>\n",
              "      <th>SaleCondition</th>\n",
              "      <th>SalePrice</th>\n",
              "    </tr>\n",
              "  </thead>\n",
              "  <tbody>\n",
              "    <tr>\n",
              "      <th>0</th>\n",
              "      <td>1</td>\n",
              "      <td>60</td>\n",
              "      <td>RL</td>\n",
              "      <td>65.0</td>\n",
              "      <td>8450</td>\n",
              "      <td>Pave</td>\n",
              "      <td>NaN</td>\n",
              "      <td>Reg</td>\n",
              "      <td>Lvl</td>\n",
              "      <td>AllPub</td>\n",
              "      <td>Inside</td>\n",
              "      <td>Gtl</td>\n",
              "      <td>CollgCr</td>\n",
              "      <td>Norm</td>\n",
              "      <td>Norm</td>\n",
              "      <td>1Fam</td>\n",
              "      <td>2Story</td>\n",
              "      <td>7</td>\n",
              "      <td>5</td>\n",
              "      <td>2003</td>\n",
              "      <td>2003</td>\n",
              "      <td>Gable</td>\n",
              "      <td>CompShg</td>\n",
              "      <td>VinylSd</td>\n",
              "      <td>VinylSd</td>\n",
              "      <td>BrkFace</td>\n",
              "      <td>196.0</td>\n",
              "      <td>Gd</td>\n",
              "      <td>TA</td>\n",
              "      <td>PConc</td>\n",
              "      <td>Gd</td>\n",
              "      <td>TA</td>\n",
              "      <td>No</td>\n",
              "      <td>GLQ</td>\n",
              "      <td>706</td>\n",
              "      <td>Unf</td>\n",
              "      <td>0</td>\n",
              "      <td>150</td>\n",
              "      <td>856</td>\n",
              "      <td>GasA</td>\n",
              "      <td>...</td>\n",
              "      <td>Y</td>\n",
              "      <td>SBrkr</td>\n",
              "      <td>856</td>\n",
              "      <td>854</td>\n",
              "      <td>0</td>\n",
              "      <td>1710</td>\n",
              "      <td>1</td>\n",
              "      <td>0</td>\n",
              "      <td>2</td>\n",
              "      <td>1</td>\n",
              "      <td>3</td>\n",
              "      <td>1</td>\n",
              "      <td>Gd</td>\n",
              "      <td>8</td>\n",
              "      <td>Typ</td>\n",
              "      <td>0</td>\n",
              "      <td>NaN</td>\n",
              "      <td>Attchd</td>\n",
              "      <td>2003.0</td>\n",
              "      <td>RFn</td>\n",
              "      <td>2</td>\n",
              "      <td>548</td>\n",
              "      <td>TA</td>\n",
              "      <td>TA</td>\n",
              "      <td>Y</td>\n",
              "      <td>0</td>\n",
              "      <td>61</td>\n",
              "      <td>0</td>\n",
              "      <td>0</td>\n",
              "      <td>0</td>\n",
              "      <td>0</td>\n",
              "      <td>NaN</td>\n",
              "      <td>NaN</td>\n",
              "      <td>NaN</td>\n",
              "      <td>0</td>\n",
              "      <td>2</td>\n",
              "      <td>2008</td>\n",
              "      <td>WD</td>\n",
              "      <td>Normal</td>\n",
              "      <td>208500</td>\n",
              "    </tr>\n",
              "    <tr>\n",
              "      <th>1</th>\n",
              "      <td>2</td>\n",
              "      <td>20</td>\n",
              "      <td>RL</td>\n",
              "      <td>80.0</td>\n",
              "      <td>9600</td>\n",
              "      <td>Pave</td>\n",
              "      <td>NaN</td>\n",
              "      <td>Reg</td>\n",
              "      <td>Lvl</td>\n",
              "      <td>AllPub</td>\n",
              "      <td>FR2</td>\n",
              "      <td>Gtl</td>\n",
              "      <td>Veenker</td>\n",
              "      <td>Feedr</td>\n",
              "      <td>Norm</td>\n",
              "      <td>1Fam</td>\n",
              "      <td>1Story</td>\n",
              "      <td>6</td>\n",
              "      <td>8</td>\n",
              "      <td>1976</td>\n",
              "      <td>1976</td>\n",
              "      <td>Gable</td>\n",
              "      <td>CompShg</td>\n",
              "      <td>MetalSd</td>\n",
              "      <td>MetalSd</td>\n",
              "      <td>None</td>\n",
              "      <td>0.0</td>\n",
              "      <td>TA</td>\n",
              "      <td>TA</td>\n",
              "      <td>CBlock</td>\n",
              "      <td>Gd</td>\n",
              "      <td>TA</td>\n",
              "      <td>Gd</td>\n",
              "      <td>ALQ</td>\n",
              "      <td>978</td>\n",
              "      <td>Unf</td>\n",
              "      <td>0</td>\n",
              "      <td>284</td>\n",
              "      <td>1262</td>\n",
              "      <td>GasA</td>\n",
              "      <td>...</td>\n",
              "      <td>Y</td>\n",
              "      <td>SBrkr</td>\n",
              "      <td>1262</td>\n",
              "      <td>0</td>\n",
              "      <td>0</td>\n",
              "      <td>1262</td>\n",
              "      <td>0</td>\n",
              "      <td>1</td>\n",
              "      <td>2</td>\n",
              "      <td>0</td>\n",
              "      <td>3</td>\n",
              "      <td>1</td>\n",
              "      <td>TA</td>\n",
              "      <td>6</td>\n",
              "      <td>Typ</td>\n",
              "      <td>1</td>\n",
              "      <td>TA</td>\n",
              "      <td>Attchd</td>\n",
              "      <td>1976.0</td>\n",
              "      <td>RFn</td>\n",
              "      <td>2</td>\n",
              "      <td>460</td>\n",
              "      <td>TA</td>\n",
              "      <td>TA</td>\n",
              "      <td>Y</td>\n",
              "      <td>298</td>\n",
              "      <td>0</td>\n",
              "      <td>0</td>\n",
              "      <td>0</td>\n",
              "      <td>0</td>\n",
              "      <td>0</td>\n",
              "      <td>NaN</td>\n",
              "      <td>NaN</td>\n",
              "      <td>NaN</td>\n",
              "      <td>0</td>\n",
              "      <td>5</td>\n",
              "      <td>2007</td>\n",
              "      <td>WD</td>\n",
              "      <td>Normal</td>\n",
              "      <td>181500</td>\n",
              "    </tr>\n",
              "    <tr>\n",
              "      <th>2</th>\n",
              "      <td>3</td>\n",
              "      <td>60</td>\n",
              "      <td>RL</td>\n",
              "      <td>68.0</td>\n",
              "      <td>11250</td>\n",
              "      <td>Pave</td>\n",
              "      <td>NaN</td>\n",
              "      <td>IR1</td>\n",
              "      <td>Lvl</td>\n",
              "      <td>AllPub</td>\n",
              "      <td>Inside</td>\n",
              "      <td>Gtl</td>\n",
              "      <td>CollgCr</td>\n",
              "      <td>Norm</td>\n",
              "      <td>Norm</td>\n",
              "      <td>1Fam</td>\n",
              "      <td>2Story</td>\n",
              "      <td>7</td>\n",
              "      <td>5</td>\n",
              "      <td>2001</td>\n",
              "      <td>2002</td>\n",
              "      <td>Gable</td>\n",
              "      <td>CompShg</td>\n",
              "      <td>VinylSd</td>\n",
              "      <td>VinylSd</td>\n",
              "      <td>BrkFace</td>\n",
              "      <td>162.0</td>\n",
              "      <td>Gd</td>\n",
              "      <td>TA</td>\n",
              "      <td>PConc</td>\n",
              "      <td>Gd</td>\n",
              "      <td>TA</td>\n",
              "      <td>Mn</td>\n",
              "      <td>GLQ</td>\n",
              "      <td>486</td>\n",
              "      <td>Unf</td>\n",
              "      <td>0</td>\n",
              "      <td>434</td>\n",
              "      <td>920</td>\n",
              "      <td>GasA</td>\n",
              "      <td>...</td>\n",
              "      <td>Y</td>\n",
              "      <td>SBrkr</td>\n",
              "      <td>920</td>\n",
              "      <td>866</td>\n",
              "      <td>0</td>\n",
              "      <td>1786</td>\n",
              "      <td>1</td>\n",
              "      <td>0</td>\n",
              "      <td>2</td>\n",
              "      <td>1</td>\n",
              "      <td>3</td>\n",
              "      <td>1</td>\n",
              "      <td>Gd</td>\n",
              "      <td>6</td>\n",
              "      <td>Typ</td>\n",
              "      <td>1</td>\n",
              "      <td>TA</td>\n",
              "      <td>Attchd</td>\n",
              "      <td>2001.0</td>\n",
              "      <td>RFn</td>\n",
              "      <td>2</td>\n",
              "      <td>608</td>\n",
              "      <td>TA</td>\n",
              "      <td>TA</td>\n",
              "      <td>Y</td>\n",
              "      <td>0</td>\n",
              "      <td>42</td>\n",
              "      <td>0</td>\n",
              "      <td>0</td>\n",
              "      <td>0</td>\n",
              "      <td>0</td>\n",
              "      <td>NaN</td>\n",
              "      <td>NaN</td>\n",
              "      <td>NaN</td>\n",
              "      <td>0</td>\n",
              "      <td>9</td>\n",
              "      <td>2008</td>\n",
              "      <td>WD</td>\n",
              "      <td>Normal</td>\n",
              "      <td>223500</td>\n",
              "    </tr>\n",
              "    <tr>\n",
              "      <th>3</th>\n",
              "      <td>4</td>\n",
              "      <td>70</td>\n",
              "      <td>RL</td>\n",
              "      <td>60.0</td>\n",
              "      <td>9550</td>\n",
              "      <td>Pave</td>\n",
              "      <td>NaN</td>\n",
              "      <td>IR1</td>\n",
              "      <td>Lvl</td>\n",
              "      <td>AllPub</td>\n",
              "      <td>Corner</td>\n",
              "      <td>Gtl</td>\n",
              "      <td>Crawfor</td>\n",
              "      <td>Norm</td>\n",
              "      <td>Norm</td>\n",
              "      <td>1Fam</td>\n",
              "      <td>2Story</td>\n",
              "      <td>7</td>\n",
              "      <td>5</td>\n",
              "      <td>1915</td>\n",
              "      <td>1970</td>\n",
              "      <td>Gable</td>\n",
              "      <td>CompShg</td>\n",
              "      <td>Wd Sdng</td>\n",
              "      <td>Wd Shng</td>\n",
              "      <td>None</td>\n",
              "      <td>0.0</td>\n",
              "      <td>TA</td>\n",
              "      <td>TA</td>\n",
              "      <td>BrkTil</td>\n",
              "      <td>TA</td>\n",
              "      <td>Gd</td>\n",
              "      <td>No</td>\n",
              "      <td>ALQ</td>\n",
              "      <td>216</td>\n",
              "      <td>Unf</td>\n",
              "      <td>0</td>\n",
              "      <td>540</td>\n",
              "      <td>756</td>\n",
              "      <td>GasA</td>\n",
              "      <td>...</td>\n",
              "      <td>Y</td>\n",
              "      <td>SBrkr</td>\n",
              "      <td>961</td>\n",
              "      <td>756</td>\n",
              "      <td>0</td>\n",
              "      <td>1717</td>\n",
              "      <td>1</td>\n",
              "      <td>0</td>\n",
              "      <td>1</td>\n",
              "      <td>0</td>\n",
              "      <td>3</td>\n",
              "      <td>1</td>\n",
              "      <td>Gd</td>\n",
              "      <td>7</td>\n",
              "      <td>Typ</td>\n",
              "      <td>1</td>\n",
              "      <td>Gd</td>\n",
              "      <td>Detchd</td>\n",
              "      <td>1998.0</td>\n",
              "      <td>Unf</td>\n",
              "      <td>3</td>\n",
              "      <td>642</td>\n",
              "      <td>TA</td>\n",
              "      <td>TA</td>\n",
              "      <td>Y</td>\n",
              "      <td>0</td>\n",
              "      <td>35</td>\n",
              "      <td>272</td>\n",
              "      <td>0</td>\n",
              "      <td>0</td>\n",
              "      <td>0</td>\n",
              "      <td>NaN</td>\n",
              "      <td>NaN</td>\n",
              "      <td>NaN</td>\n",
              "      <td>0</td>\n",
              "      <td>2</td>\n",
              "      <td>2006</td>\n",
              "      <td>WD</td>\n",
              "      <td>Abnorml</td>\n",
              "      <td>140000</td>\n",
              "    </tr>\n",
              "    <tr>\n",
              "      <th>4</th>\n",
              "      <td>5</td>\n",
              "      <td>60</td>\n",
              "      <td>RL</td>\n",
              "      <td>84.0</td>\n",
              "      <td>14260</td>\n",
              "      <td>Pave</td>\n",
              "      <td>NaN</td>\n",
              "      <td>IR1</td>\n",
              "      <td>Lvl</td>\n",
              "      <td>AllPub</td>\n",
              "      <td>FR2</td>\n",
              "      <td>Gtl</td>\n",
              "      <td>NoRidge</td>\n",
              "      <td>Norm</td>\n",
              "      <td>Norm</td>\n",
              "      <td>1Fam</td>\n",
              "      <td>2Story</td>\n",
              "      <td>8</td>\n",
              "      <td>5</td>\n",
              "      <td>2000</td>\n",
              "      <td>2000</td>\n",
              "      <td>Gable</td>\n",
              "      <td>CompShg</td>\n",
              "      <td>VinylSd</td>\n",
              "      <td>VinylSd</td>\n",
              "      <td>BrkFace</td>\n",
              "      <td>350.0</td>\n",
              "      <td>Gd</td>\n",
              "      <td>TA</td>\n",
              "      <td>PConc</td>\n",
              "      <td>Gd</td>\n",
              "      <td>TA</td>\n",
              "      <td>Av</td>\n",
              "      <td>GLQ</td>\n",
              "      <td>655</td>\n",
              "      <td>Unf</td>\n",
              "      <td>0</td>\n",
              "      <td>490</td>\n",
              "      <td>1145</td>\n",
              "      <td>GasA</td>\n",
              "      <td>...</td>\n",
              "      <td>Y</td>\n",
              "      <td>SBrkr</td>\n",
              "      <td>1145</td>\n",
              "      <td>1053</td>\n",
              "      <td>0</td>\n",
              "      <td>2198</td>\n",
              "      <td>1</td>\n",
              "      <td>0</td>\n",
              "      <td>2</td>\n",
              "      <td>1</td>\n",
              "      <td>4</td>\n",
              "      <td>1</td>\n",
              "      <td>Gd</td>\n",
              "      <td>9</td>\n",
              "      <td>Typ</td>\n",
              "      <td>1</td>\n",
              "      <td>TA</td>\n",
              "      <td>Attchd</td>\n",
              "      <td>2000.0</td>\n",
              "      <td>RFn</td>\n",
              "      <td>3</td>\n",
              "      <td>836</td>\n",
              "      <td>TA</td>\n",
              "      <td>TA</td>\n",
              "      <td>Y</td>\n",
              "      <td>192</td>\n",
              "      <td>84</td>\n",
              "      <td>0</td>\n",
              "      <td>0</td>\n",
              "      <td>0</td>\n",
              "      <td>0</td>\n",
              "      <td>NaN</td>\n",
              "      <td>NaN</td>\n",
              "      <td>NaN</td>\n",
              "      <td>0</td>\n",
              "      <td>12</td>\n",
              "      <td>2008</td>\n",
              "      <td>WD</td>\n",
              "      <td>Normal</td>\n",
              "      <td>250000</td>\n",
              "    </tr>\n",
              "  </tbody>\n",
              "</table>\n",
              "<p>5 rows × 81 columns</p>\n",
              "</div>"
            ],
            "text/plain": [
              "   Id  MSSubClass MSZoning  ...  SaleType  SaleCondition SalePrice\n",
              "0   1          60       RL  ...        WD         Normal    208500\n",
              "1   2          20       RL  ...        WD         Normal    181500\n",
              "2   3          60       RL  ...        WD         Normal    223500\n",
              "3   4          70       RL  ...        WD        Abnorml    140000\n",
              "4   5          60       RL  ...        WD         Normal    250000\n",
              "\n",
              "[5 rows x 81 columns]"
            ]
          },
          "metadata": {
            "tags": []
          },
          "execution_count": 15
        }
      ]
    },
    {
      "cell_type": "code",
      "metadata": {
        "id": "JQtVZ9MVHmN8",
        "colab_type": "code",
        "colab": {}
      },
      "source": [
        "print('The train data has {0} rows and {1} column'.format(train.shape[0],train.shape[1]))\n",
        "print('---------------------------')\n",
        "print('The test data has {0} rows and {1} column'.format(train.shape[0],train.shape[1]))"
      ],
      "execution_count": 15,
      "outputs": []
    },
    {
      "cell_type": "code",
      "metadata": {
        "id": "praPq91CIPwv",
        "colab_type": "code",
        "colab": {}
      },
      "source": [
        "The train data has 1460 rows and 81 columns\n",
        "----------------------------\n",
        "The test data has 1459 rows and 80 columns"
      ],
      "execution_count": null,
      "outputs": []
    },
    {
      "cell_type": "code",
      "metadata": {
        "id": "CumHjH-2IfeI",
        "colab_type": "code",
        "colab": {}
      },
      "source": [
        "#check missing values\n",
        "train.columns[train.isnull().any()]\n",
        "\n",
        "['LotFrontage',\n",
        " 'Alley',\n",
        " 'MasVnrType',\n",
        " 'MasVnrArea',\n",
        " 'BsmtQual',\n",
        " 'BsmtCond',\n",
        " 'BsmtExposure',\n",
        " 'BsmtFinType1',\n",
        " 'BsmtFinType2',\n",
        " 'Electrical',\n",
        " 'FireplaceQu',\n",
        " 'GarageType',\n",
        " 'GarageYrBlt',\n",
        " 'GarageFinish',\n",
        " 'GarageQual',\n",
        " 'GarageCond',\n",
        " 'PoolQC',\n",
        " 'Fence',\n",
        " 'MiscFeature']"
      ],
      "execution_count": null,
      "outputs": []
    },
    {
      "cell_type": "code",
      "metadata": {
        "id": "gjCyNgzuIp4w",
        "colab_type": "code",
        "colab": {}
      },
      "source": [
        "#missing value counts in each of these columns\n",
        "miss = train.isnull().sum()/len(train)\n",
        "miss = miss[miss > 0]\n",
        "miss.sort_values(inplace=True)\n",
        "miss"
      ],
      "execution_count": null,
      "outputs": []
    },
    {
      "cell_type": "code",
      "metadata": {
        "id": "IXZSOfNaIsEh",
        "colab_type": "code",
        "colab": {}
      },
      "source": [
        "#visualising missing values\n",
        "miss = miss.to_frame()\n",
        "miss.columns = ['count']\n",
        "miss.index.names = ['Name']\n",
        "miss['Name'] = miss.index\n",
        "\n",
        "#plot the missing value count\n",
        "sns.set(style=\"whitegrid\", color_codes=True)\n",
        "sns.barplot(x = 'Name', y = 'count', data=miss)\n",
        "plt.xticks(rotation = 90)\n",
        "sns.plt.show()"
      ],
      "execution_count": null,
      "outputs": []
    },
    {
      "cell_type": "code",
      "metadata": {
        "id": "5oLg8YIgIwyT",
        "colab_type": "code",
        "colab": {}
      },
      "source": [
        "#SalePrice\n",
        "sns.distplot(train['SalePrice'])"
      ],
      "execution_count": null,
      "outputs": []
    },
    {
      "cell_type": "code",
      "metadata": {
        "id": "18KEA2_8Iy-2",
        "colab_type": "code",
        "colab": {}
      },
      "source": [
        "#skewness\n",
        "print \"The skewness of SalePrice is {}\".format(train['SalePrice'].skew())"
      ],
      "execution_count": null,
      "outputs": []
    },
    {
      "cell_type": "code",
      "metadata": {
        "id": "LNxjNeR9I1ON",
        "colab_type": "code",
        "colab": {}
      },
      "source": [
        "The skewness of SalePrice is 1.88287575977"
      ],
      "execution_count": null,
      "outputs": []
    },
    {
      "cell_type": "code",
      "metadata": {
        "id": "D7gY9rJVI4Mv",
        "colab_type": "code",
        "colab": {}
      },
      "source": [
        "#now transforming the target variable\n",
        "target = np.log(train['SalePrice'])\n",
        "print ('Skewness is', target.skew())\n",
        "sns.distplot(target)"
      ],
      "execution_count": null,
      "outputs": []
    },
    {
      "cell_type": "code",
      "metadata": {
        "id": "dix76ua7I6W8",
        "colab_type": "code",
        "colab": {}
      },
      "source": [
        "Skewness is 0.12133506220520406)"
      ],
      "execution_count": null,
      "outputs": []
    },
    {
      "cell_type": "code",
      "metadata": {
        "id": "4VWLEQUmI8s8",
        "colab_type": "code",
        "colab": {}
      },
      "source": [
        "#separate variables into new data frames\n",
        "numeric_data = train.select_dtypes(include=[np.number])\n",
        "cat_data = train.select_dtypes(exclude=[np.number])\n",
        "print (\"There are {} numeric and {} categorical columns in train data\".format(numeric_data.shape[1],cat_data.shape[1]))"
      ],
      "execution_count": null,
      "outputs": []
    },
    {
      "cell_type": "code",
      "metadata": {
        "id": "pl4LtAyPI_Jo",
        "colab_type": "code",
        "colab": {}
      },
      "source": [
        "del numeric_data['Id']"
      ],
      "execution_count": null,
      "outputs": []
    },
    {
      "cell_type": "code",
      "metadata": {
        "id": "CU4WzDB8JCUh",
        "colab_type": "code",
        "colab": {}
      },
      "source": [
        "#correlation plot\n",
        "corr = numeric_data.corr()\n",
        "sns.heatmap(corr)"
      ],
      "execution_count": null,
      "outputs": []
    },
    {
      "cell_type": "code",
      "metadata": {
        "id": "sjWzlStFJEGH",
        "colab_type": "code",
        "colab": {}
      },
      "source": [
        "print (corr['SalePrice'].sort_values(ascending=False)[:15], '\\n') #top 15 values\n",
        "print ('----------------------')\n",
        "print (corr['SalePrice'].sort_values(ascending=False)[-5:]) #last 5 values`\n",
        "\n",
        "SalePrice       1.000000\n",
        "OverallQual     0.790982\n",
        "GrLivArea       0.708624\n",
        "GarageCars      0.640409\n",
        "GarageArea      0.623431\n",
        "TotalBsmtSF     0.613581\n",
        "1stFlrSF        0.605852\n",
        "FullBath        0.560664\n",
        "TotRmsAbvGrd    0.533723\n",
        "YearBuilt       0.522897\n",
        "YearRemodAdd    0.507101\n",
        "GarageYrBlt     0.486362\n",
        "MasVnrArea      0.477493\n",
        "Fireplaces      0.466929\n",
        "BsmtFinSF1      0.386420\n",
        "Name: SalePrice, dtype: float64, '\\n')\n",
        "----------------------\n",
        "YrSold          -0.028923\n",
        "OverallCond     -0.077856\n",
        "MSSubClass      -0.084284\n",
        "EnclosedPorch   -0.128578\n",
        "KitchenAbvGr    -0.135907\n",
        "Name: SalePrice, dtype: float64</pre>"
      ],
      "execution_count": null,
      "outputs": []
    },
    {
      "cell_type": "code",
      "metadata": {
        "id": "npyvXx8LJG0m",
        "colab_type": "code",
        "colab": {}
      },
      "source": [
        "train['OverallQual'].unique()\n",
        "array([ 7,  6,  8,  5,  9,  4, 10,  3,  1,  2]"
      ],
      "execution_count": null,
      "outputs": []
    },
    {
      "cell_type": "code",
      "metadata": {
        "id": "xpsTlfWVJJB5",
        "colab_type": "code",
        "colab": {}
      },
      "source": [
        "#let's check the mean price per quality and plot it.\n",
        "pivot = train.pivot_table(index='OverallQual', values='SalePrice', aggfunc=np.median)\n",
        "pivot.sort"
      ],
      "execution_count": null,
      "outputs": []
    },
    {
      "cell_type": "code",
      "metadata": {
        "id": "8B2XaM3dJLI1",
        "colab_type": "code",
        "colab": {}
      },
      "source": [
        "pivot.plot(kind='bar', color='red')"
      ],
      "execution_count": null,
      "outputs": []
    },
    {
      "cell_type": "code",
      "metadata": {
        "id": "dpUnFcJzJOLO",
        "colab_type": "code",
        "colab": {}
      },
      "source": [
        "#GrLivArea variable\n",
        "sns.jointplot(x=train['GrLivArea'], y=train['SalePrice'])"
      ],
      "execution_count": null,
      "outputs": []
    },
    {
      "cell_type": "code",
      "metadata": {
        "id": "NOR4tDwAJQ9V",
        "colab_type": "code",
        "colab": {}
      },
      "source": [
        "cat_data.describe()"
      ],
      "execution_count": null,
      "outputs": []
    },
    {
      "cell_type": "code",
      "metadata": {
        "id": "0BTi-OTVJT3Y",
        "colab_type": "code",
        "colab": {}
      },
      "source": [
        "sp_pivot = train.pivot_table(index='SaleCondition', values='SalePrice', aggfunc=np.median)\n",
        "sp_pivot"
      ],
      "execution_count": null,
      "outputs": []
    },
    {
      "cell_type": "code",
      "metadata": {
        "id": "3DNF_Uh7JV8y",
        "colab_type": "code",
        "colab": {}
      },
      "source": [
        "sp_pivot.plot(kind='bar',color='red')"
      ],
      "execution_count": null,
      "outputs": []
    },
    {
      "cell_type": "code",
      "metadata": {
        "id": "UK-QV4gUJZBg",
        "colab_type": "code",
        "colab": {}
      },
      "source": [
        "cat = [f for f in train.columns if train.dtypes[f] == 'object']\n",
        "def anova(frame):\n",
        "    anv = pd.DataFrame()\n",
        "    anv['features'] = cat\n",
        "    pvals = []\n",
        "    for c in cat:\n",
        "           samples = []\n",
        "           for cls in frame[c].unique():\n",
        "                  s = frame[frame[c] == cls]['SalePrice'].values\n",
        "                  samples.append(s)\n",
        "           pval = stats.f_oneway(*samples)[1]\n",
        "           pvals.append(pval)\n",
        "    anv['pval'] = pvals\n",
        "    return anv.sort_values('pval')\n",
        "\n",
        "cat_data['SalePrice'] = train.SalePrice.values\n",
        "k = anova(cat_data) \n",
        "k['disparity'] = np.log(1./k['pval'].values) \n",
        "sns.barplot(data=k, x = 'features', y='disparity') \n",
        "plt.xticks(rotation=90) \n",
        "plt"
      ],
      "execution_count": null,
      "outputs": []
    },
    {
      "cell_type": "code",
      "metadata": {
        "id": "A43BkknCJc9i",
        "colab_type": "code",
        "colab": {}
      },
      "source": [
        "#create numeric plots\n",
        "num = [f for f in train.columns if train.dtypes[f] != 'object']\n",
        "num.remove('Id')\n",
        "nd = pd.melt(train, value_vars = num)\n",
        "n1 = sns.FacetGrid (nd, col='variable', col_wrap=4, sharex=False, sharey = False)\n",
        "n1 = n1.map(sns.distplot, 'value')\n",
        "n1"
      ],
      "execution_count": null,
      "outputs": []
    },
    {
      "cell_type": "code",
      "metadata": {
        "id": "ztm48CGaJfV0",
        "colab_type": "code",
        "colab": {}
      },
      "source": [
        "def boxplot(x,y,**kwargs):\n",
        "            sns.boxplot(x=x,y=y)\n",
        "            x = plt.xticks(rotation=90)\n",
        "\n",
        "cat = [f for f in train.columns if train.dtypes[f] == 'object']\n",
        "\n",
        "p = pd.melt(train, id_vars='SalePrice', value_vars=cat)\n",
        "g = sns.FacetGrid (p, col='variable', col_wrap=2, sharex=False, sharey=False, size=5)\n",
        "g = g.map(boxplot, 'value','SalePrice')\n",
        "g"
      ],
      "execution_count": null,
      "outputs": []
    },
    {
      "cell_type": "code",
      "metadata": {
        "id": "BUetgoodJiCj",
        "colab_type": "code",
        "colab": {}
      },
      "source": [
        "#removing outliers\n",
        "train.drop(train[train['GrLivArea'] > 4000].index, inplace=True)\n",
        "train.shape #removed 4 rows`\n",
        "(1456, 81)"
      ],
      "execution_count": null,
      "outputs": []
    },
    {
      "cell_type": "code",
      "metadata": {
        "id": "P3F0T5cEJlp7",
        "colab_type": "code",
        "colab": {}
      },
      "source": [
        "#imputing using mode\n",
        "test.loc[666, 'GarageQual'] = \"TA\" #stats.mode(test['GarageQual']).mode\n",
        "test.loc[666, 'GarageCond'] = \"TA\" #stats.mode(test['GarageCond']).mode\n",
        "test.loc[666, 'GarageFinish'] = \"Unf\" #stats.mode(test['GarageFinish']).mode\n",
        "test.loc[666, 'GarageYrBlt'] = \"1980\" #np.nanmedian(test['GarageYrBlt'])` "
      ],
      "execution_count": null,
      "outputs": []
    },
    {
      "cell_type": "code",
      "metadata": {
        "id": "UN12NVV2JnyT",
        "colab_type": "code",
        "colab": {}
      },
      "source": [
        "#mark as missing\n",
        "test.loc[1116, 'GarageType'] = np.nan"
      ],
      "execution_count": null,
      "outputs": []
    },
    {
      "cell_type": "code",
      "metadata": {
        "id": "dSETAKPDJp1Q",
        "colab_type": "code",
        "colab": {}
      },
      "source": [
        "#importing function\n",
        "from sklearn.preprocessing import LabelEncoder\n",
        "le = LabelEncoder()\n",
        "def factorize(data, var, fill_na = None):\n",
        "      if fill_na is not None:\n",
        "            data[var].fillna(fill_na, inplace=True)\n",
        "      le.fit(data[var])\n",
        "      data[var] = le.transform(data[var])\n",
        "      return data"
      ],
      "execution_count": null,
      "outputs": []
    },
    {
      "cell_type": "code",
      "metadata": {
        "id": "qOUpe1MPJsZS",
        "colab_type": "code",
        "colab": {}
      },
      "source": [
        "#combine the data set\n",
        "alldata = train.append(test)\n",
        "alldata.shape\n",
        "(2915, 81)\n"
      ],
      "execution_count": null,
      "outputs": []
    },
    {
      "cell_type": "code",
      "metadata": {
        "id": "r6IeaD8iJv_d",
        "colab_type": "code",
        "colab": {}
      },
      "source": [
        "#impute lotfrontage by median of neighborhood\n",
        "lot_frontage_by_neighborhood = train['LotFrontage'].groupby(train['Neighborhood'])\n",
        "\n",
        "for key, group in lot_frontage_by_neighborhood:\n",
        "                idx = (alldata['Neighborhood'] == key) & (alldata['LotFrontage'].isnull())\n",
        "                alldata.loc[idx, 'LotFrontage'] = group.median()"
      ],
      "execution_count": null,
      "outputs": []
    },
    {
      "cell_type": "code",
      "metadata": {
        "id": "4-lcYO2eJyc4",
        "colab_type": "code",
        "colab": {}
      },
      "source": [
        "#imputing missing values\n",
        "alldata[\"MasVnrArea\"].fillna(0, inplace=True)\n",
        "alldata[\"BsmtFinSF1\"].fillna(0, inplace=True)\n",
        "alldata[\"BsmtFinSF2\"].fillna(0, inplace=True)\n",
        "alldata[\"BsmtUnfSF\"].fillna(0, inplace=True)\n",
        "alldata[\"TotalBsmtSF\"].fillna(0, inplace=True)\n",
        "alldata[\"GarageArea\"].fillna(0, inplace=True)\n",
        "alldata[\"BsmtFullBath\"].fillna(0, inplace=True)\n",
        "alldata[\"BsmtHalfBath\"].fillna(0, inplace=True)\n",
        "alldata[\"GarageCars\"].fillna(0, inplace=True)\n",
        "alldata[\"GarageYrBlt\"].fillna(0.0, inplace=True)\n",
        "alldata[\"PoolArea\"].fillna(0, inplace=True)"
      ],
      "execution_count": null,
      "outputs": []
    },
    {
      "cell_type": "code",
      "metadata": {
        "id": "j5Z4ZzJnJ0xV",
        "colab_type": "code",
        "colab": {}
      },
      "source": [
        "qual_dict = {np.nan: 0, \"Po\": 1, \"Fa\": 2, \"TA\": 3, \"Gd\": 4, \"Ex\": 5}\n",
        "name = np.array(['ExterQual','PoolQC' ,'ExterCond','BsmtQual','BsmtCond','HeatingQC','KitchenQual','FireplaceQu', 'GarageQual','GarageCond'])\n",
        "\n",
        "for i in name:\n",
        "     alldata[i] = alldata[i].map(qual_dict).astype(int)\n",
        "\n",
        "alldata[\"BsmtExposure\"] = alldata[\"BsmtExposure\"].map({np.nan: 0, \"No\": 1, \"Mn\": 2, \"Av\": 3, \"Gd\": 4}).astype(int)\n",
        "\n",
        "bsmt_fin_dict = {np.nan: 0, \"Unf\": 1, \"LwQ\": 2, \"Rec\": 3, \"BLQ\": 4, \"ALQ\": 5, \"GLQ\": 6}\n",
        "alldata[\"BsmtFinType1\"] = alldata[\"BsmtFinType1\"].map(bsmt_fin_dict).astype(int)\n",
        "alldata[\"BsmtFinType2\"] = alldata[\"BsmtFinType2\"].map(bsmt_fin_dict).astype(int)\n",
        "alldata[\"Functional\"] = alldata[\"Functional\"].map({np.nan: 0, \"Sal\": 1, \"Sev\": 2, \"Maj2\": 3, \"Maj1\": 4, \"Mod\": 5, \"Min2\": 6, \"Min1\": 7, \"Typ\": 8}).astype(int)\n",
        "\n",
        "alldata[\"GarageFinish\"] = alldata[\"GarageFinish\"].map({np.nan: 0, \"Unf\": 1, \"RFn\": 2, \"Fin\": 3}).astype(int)\n",
        "alldata[\"Fence\"] = alldata[\"Fence\"].map({np.nan: 0, \"MnWw\": 1, \"GdWo\": 2, \"MnPrv\": 3, \"GdPrv\": 4}).astype(int)\n",
        "\n",
        "#encoding data\n",
        "alldata[\"CentralAir\"] = (alldata[\"CentralAir\"] == \"Y\") * 1.0\n",
        "varst = np.array(['MSSubClass','LotConfig','Neighborhood','Condition1','BldgType','HouseStyle','RoofStyle','Foundation','SaleCondition'])\n",
        "\n",
        "for x in varst:\n",
        "         factorize(alldata, x)\n",
        "\n",
        "#encode variables and impute missing values\n",
        "alldata = factorize(alldata, \"MSZoning\", \"RL\")\n",
        "alldata = factorize(alldata, \"Exterior1st\", \"Other\")\n",
        "alldata = factorize(alldata, \"Exterior2nd\", \"Other\")\n",
        "alldata = factorize(alldata, \"MasVnrType\", \"None\")\n",
        "alldata = factorize(alldata, \"SaleType\", \"Oth\")"
      ],
      "execution_count": null,
      "outputs": []
    },
    {
      "cell_type": "code",
      "metadata": {
        "id": "Xmpn6xe3J4tm",
        "colab_type": "code",
        "colab": {}
      },
      "source": [
        "#creating new variable (1 or 0) based on irregular count levels\n",
        "#The level with highest count is kept as 1 and rest as 0\n",
        "alldata[\"IsRegularLotShape\"] = (alldata[\"LotShape\"] == \"Reg\") * 1\n",
        "alldata[\"IsLandLevel\"] = (alldata[\"LandContour\"] == \"Lvl\") * 1\n",
        "alldata[\"IsLandSlopeGentle\"] = (alldata[\"LandSlope\"] == \"Gtl\") * 1\n",
        "alldata[\"IsElectricalSBrkr\"] = (alldata[\"Electrical\"] == \"SBrkr\") * 1\n",
        "alldata[\"IsGarageDetached\"] = (alldata[\"GarageType\"] == \"Detchd\") * 1\n",
        "alldata[\"IsPavedDrive\"] = (alldata[\"PavedDrive\"] == \"Y\") * 1\n",
        "alldata[\"HasShed\"] = (alldata[\"MiscFeature\"] == \"Shed\") * 1\n",
        "alldata[\"Remodeled\"] = (alldata[\"YearRemodAdd\"] != alldata[\"YearBuilt\"]) * 1\n",
        "\n",
        "#Did the modeling happen during the sale year?\n",
        "alldata[\"RecentRemodel\"] = (alldata[\"YearRemodAdd\"] == alldata[\"YrSold\"]) * 1\n",
        "\n",
        "# Was this house sold in the year it was built?\n",
        "alldata[\"VeryNewHouse\"] = (alldata[\"YearBuilt\"] == alldata[\"YrSold\"]) * 1\n",
        "alldata[\"Has2ndFloor\"] = (alldata[\"2ndFlrSF\"] == 0) * 1\n",
        "alldata[\"HasMasVnr\"] = (alldata[\"MasVnrArea\"] == 0) * 1\n",
        "alldata[\"HasWoodDeck\"] = (alldata[\"WoodDeckSF\"] == 0) * 1\n",
        "alldata[\"HasOpenPorch\"] = (alldata[\"OpenPorchSF\"] == 0) * 1\n",
        "alldata[\"HasEnclosedPorch\"] = (alldata[\"EnclosedPorch\"] == 0) * 1\n",
        "alldata[\"Has3SsnPorch\"] = (alldata[\"3SsnPorch\"] == 0) * 1\n",
        "alldata[\"HasScreenPorch\"] = (alldata[\"ScreenPorch\"] == 0) * 1\n",
        "\n",
        "#setting levels with high count as 1 and the rest as 0\n",
        "#you can check for them using the value_counts function\n",
        "alldata[\"HighSeason\"] = alldata[\"MoSold\"].replace(` `{1: 0, 2: 0, 3: 0, 4: 1, 5: 1, 6: 1, 7: 1, 8: 0, 9: 0, 10: 0, 11: 0, 12: 0})\n",
        "alldata[\"NewerDwelling\"] = alldata[\"MSSubClass\"].replace(` `{20: 1, 30: 0, 40: 0, 45: 0,50: 0, 60: 1, 70: 0, 75: 0, 80: 0, 85: 0,` `90: 0, 120: 1, 150: 0, 160: 0, 180: 0, 190: 0})"
      ],
      "execution_count": null,
      "outputs": []
    },
    {
      "cell_type": "code",
      "metadata": {
        "id": "Xh6H6CUeKEI5",
        "colab_type": "code",
        "colab": {}
      },
      "source": [
        "alldata.shape\n",
        "(2915, 100)"
      ],
      "execution_count": null,
      "outputs": []
    },
    {
      "cell_type": "code",
      "metadata": {
        "id": "sic0b2mkKG32",
        "colab_type": "code",
        "colab": {}
      },
      "source": [
        "#create alldata2\n",
        "alldata2 = train.append(test)\n",
        "\n",
        "alldata[\"SaleCondition_PriceDown\"] = alldata2.SaleCondition.replace({'Abnorml': 1, 'Alloca': 1, 'AdjLand': 1, 'Family': 1, 'Normal': 0, 'Partial': 0})\n",
        "\n",
        "# house completed before sale or not\n",
        "alldata[\"BoughtOffPlan\"] = alldata2.SaleCondition.replace({\"Abnorml\" : 0, \"Alloca\" : 0, \"AdjLand\" : 0, \"Family\" : 0, \"Normal\" : 0, \"Partial\" : 1})\n",
        "alldata[\"BadHeating\"] = alldata2.HeatingQC.replace({'Ex': 0, 'Gd': 0, 'TA': 0, 'Fa': 1, 'Po': 1})"
      ],
      "execution_count": null,
      "outputs": []
    },
    {
      "cell_type": "code",
      "metadata": {
        "id": "-iap2J3KKJWY",
        "colab_type": "code",
        "colab": {}
      },
      "source": [
        "#calculating total area using all area columns\n",
        "area_cols = ['LotFrontage', 'LotArea', 'MasVnrArea', 'BsmtFinSF1', 'BsmtFinSF2', 'BsmtUnfSF',` `'TotalBsmtSF', '1stFlrSF', '2ndFlrSF', 'GrLivArea', 'GarageArea', 'WoodDeckSF',` `'OpenPorchSF', 'EnclosedPorch', '3SsnPorch', 'ScreenPorch', 'LowQualFinSF', 'PoolArea' ]\n",
        "\n",
        "alldata[\"TotalArea\"] = alldata[area_cols].sum(axis=1)\n",
        "alldata[\"TotalArea1st2nd\"] = alldata[\"1stFlrSF\"] + alldata[\"2ndFlrSF\"]\n",
        "alldata[\"Age\"] = 2010 - alldata[\"YearBuilt\"]\n",
        "alldata[\"TimeSinceSold\"] = 2010 - alldata[\"YrSold\"]\n",
        "alldata[\"SeasonSold\"] = alldata[\"MoSold\"].map({12:0, 1:0, 2:0, 3:1, 4:1, 5:1, 6:2, 7:2, 8:2, 9:3, 10:3, 11:3}).astype(int)\n",
        "alldata[\"YearsSinceRemodel\"] = alldata[\"YrSold\"] - alldata[\"YearRemodAdd\"]\n",
        "\n",
        "# Simplifications of existing features into bad/average/good based on counts\n",
        "alldata[\"SimplOverallQual\"] = alldata.OverallQual.replace({1 : 1, 2 : 1, 3 : 1, 4 : 2, 5 : 2, 6 : 2, 7 : 3, 8 : 3, 9 : 3, 10 : 3})\n",
        "alldata[\"SimplOverallCond\"] = alldata.OverallCond.replace({1 : 1, 2 : 1, 3 : 1, 4 : 2, 5 : 2, 6 : 2, 7 : 3, 8 : 3, 9 : 3, 10 : 3})\n",
        "alldata[\"SimplPoolQC\"] = alldata.PoolQC.replace({1 : 1, 2 : 1, 3 : 2, 4 : 2})\n",
        "alldata[\"SimplGarageCond\"] = alldata.GarageCond.replace({1 : 1, 2 : 1, 3 : 1, 4 : 2, 5 : 2})\n",
        "alldata[\"SimplGarageQual\"] = alldata.GarageQual.replace({1 : 1, 2 : 1, 3 : 1, 4 : 2, 5 : 2})\n",
        "alldata[\"SimplFireplaceQu\"] = alldata.FireplaceQu.replace({1 : 1, 2 : 1, 3 : 1, 4 : 2, 5 : 2})\n",
        "alldata[\"SimplFireplaceQu\"] = alldata.FireplaceQu.replace({1 : 1, 2 : 1, 3 : 1, 4 : 2, 5 : 2})\n",
        "alldata[\"SimplFunctional\"] = alldata.Functional.replace({1 : 1, 2 : 1, 3 : 2, 4 : 2, 5 : 3, 6 : 3, 7 : 3, 8 : 4})\n",
        "alldata[\"SimplKitchenQual\"] = alldata.KitchenQual.replace({1 : 1, 2 : 1, 3 : 1, 4 : 2, 5 : 2})\n",
        "alldata[\"SimplHeatingQC\"] = alldata.HeatingQC.replace({1 : 1, 2 : 1, 3 : 1, 4 : 2, 5 : 2})\n",
        "alldata[\"SimplBsmtFinType1\"] = alldata.BsmtFinType1.replace({1 : 1, 2 : 1, 3 : 1, 4 : 2, 5 : 2, 6 : 2})\n",
        "alldata[\"SimplBsmtFinType2\"] = alldata.BsmtFinType2.replace({1 : 1, 2 : 1, 3 : 1, 4 : 2, 5 : 2, 6 : 2})\n",
        "alldata[\"SimplBsmtCond\"] = alldata.BsmtCond.replace({1 : 1, 2 : 1, 3 : 1, 4 : 2, 5 : 2})\n",
        "alldata[\"SimplBsmtQual\"] = alldata.BsmtQual.replace({1 : 1, 2 : 1, 3 : 1, 4 : 2, 5 : 2})\n",
        "alldata[\"SimplExterCond\"] = alldata.ExterCond.replace({1 : 1, 2 : 1, 3 : 1, 4 : 2, 5 : 2})\n",
        "alldata[\"SimplExterQual\"] = alldata.ExterQual.replace({1 : 1, 2 : 1, 3 : 1, 4 : 2, 5 : 2})\n",
        "\n",
        "#grouping neighborhood variable based on this plot\n",
        "train['SalePrice'].groupby(train['Neighborhood']).median().sort_values().plot(kind='bar')"
      ],
      "execution_count": null,
      "outputs": []
    },
    {
      "cell_type": "code",
      "metadata": {
        "id": "6_EaF0SlKMno",
        "colab_type": "code",
        "colab": {}
      },
      "source": [
        "neighborhood_map = {\"MeadowV\" : 0, \"IDOTRR\" : 1, \"BrDale\" : 1, \"OldTown\" : 1, \"Edwards\" : 1, \"BrkSide\" : 1,` ` \"Sawyer\" : 1, \"Blueste\" : 1, \"SWISU\" : 2, \"NAmes\" : 2, \"NPkVill\" : 2, \"Mitchel\" : 2, \"SawyerW\" : 2, \"Gilbert\" : 2, \"NWAmes\" : 2, \"Blmngtn\" : 2, \"CollgCr\" : 2, \"ClearCr\" : 3, \"Crawfor\" : 3, \"Veenker\" : 3, \"Somerst\" : 3, \"Timber\" : 3, \"StoneBr\" : 4, \"NoRidge\" : 4, \"NridgHt\" : 4}\n",
        "\n",
        "alldata['NeighborhoodBin'] = alldata2['Neighborhood'].map(neighborhood_map)\n",
        "alldata.loc[alldata2.Neighborhood == 'NridgHt', \"Neighborhood_Good\"] = 1\n",
        "alldata.loc[alldata2.Neighborhood == 'Crawfor', \"Neighborhood_Good\"] = 1\n",
        "alldata.loc[alldata2.Neighborhood == 'StoneBr', \"Neighborhood_Good\"] = 1\n",
        "alldata.loc[alldata2.Neighborhood == 'Somerst', \"Neighborhood_Good\"] = 1\n",
        "alldata.loc[alldata2.Neighborhood == 'NoRidge', \"Neighborhood_Good\"] = 1\n",
        "alldata[\"Neighborhood_Good\"].fillna(0, inplace=True)\n",
        "alldata[\"SaleCondition_PriceDown\"] = alldata2.SaleCondition.replace({'Abnorml': 1, 'Alloca': 1, 'AdjLand': 1, 'Family': 1, 'Normal': 0, 'Partial': 0})\n",
        "\n",
        "# House completed before sale or not\n",
        "alldata[\"BoughtOffPlan\"] = alldata2.SaleCondition.replace({\"Abnorml\" : 0, \"Alloca\" : 0, \"AdjLand\" : 0, \"Family\" : 0, \"Normal\" : 0, \"Partial\" : 1})\n",
        "alldata[\"BadHeating\"] = alldata2.HeatingQC.replace({'Ex': 0, 'Gd': 0, 'TA': 0, 'Fa': 1, 'Po': 1})\n",
        "alldata.shape\n",
        "(2915, 124)"
      ],
      "execution_count": null,
      "outputs": []
    },
    {
      "cell_type": "code",
      "metadata": {
        "id": "YUo5T-y-KRsB",
        "colab_type": "code",
        "colab": {}
      },
      "source": [
        "#create new data\n",
        "train_new = alldata[alldata['SalePrice'].notnull()]\n",
        "test_new = alldata[alldata['SalePrice'].isnull()]\n",
        "\n",
        "print Train, train_new.shape\n",
        "print ('----------------')\n",
        "print Test, test_new.shape"
      ],
      "execution_count": null,
      "outputs": []
    },
    {
      "cell_type": "code",
      "metadata": {
        "id": "PpX_hy_7KTpi",
        "colab_type": "code",
        "colab": {}
      },
      "source": [
        "Train (1456, 126)\n",
        "----------------\n",
        "Test (1459, 126)"
      ],
      "execution_count": null,
      "outputs": []
    },
    {
      "cell_type": "code",
      "metadata": {
        "id": "hNzz6R7GKWB4",
        "colab_type": "code",
        "colab": {}
      },
      "source": [
        ""
      ],
      "execution_count": null,
      "outputs": []
    }
  ]
}